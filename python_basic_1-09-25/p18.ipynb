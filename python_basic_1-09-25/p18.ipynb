{
 "cells": [
  {
   "cell_type": "code",
   "execution_count": 1,
   "id": "c85ac6c1",
   "metadata": {},
   "outputs": [
    {
     "name": "stdout",
     "output_type": "stream",
     "text": [
      "Percentage: 70.0 Grade: C\n"
     ]
    }
   ],
   "source": [
    "marks = [int(input(f\"Enter mark {i+1}: \")) for i in range(5)]\n",
    "percent = sum(marks) / 5\n",
    "\n",
    "if percent >= 90:\n",
    "    grade = \"A\"\n",
    "elif percent >= 75:\n",
    "    grade = \"B\"\n",
    "elif percent >= 50:\n",
    "    grade = \"C\"\n",
    "else:\n",
    "    grade = \"Fail\"\n",
    "\n",
    "print(\"Percentage:\", percent, \"Grade:\", grade)\n"
   ]
  }
 ],
 "metadata": {
  "kernelspec": {
   "display_name": "Python 3",
   "language": "python",
   "name": "python3"
  },
  "language_info": {
   "codemirror_mode": {
    "name": "ipython",
    "version": 3
   },
   "file_extension": ".py",
   "mimetype": "text/x-python",
   "name": "python",
   "nbconvert_exporter": "python",
   "pygments_lexer": "ipython3",
   "version": "3.11.0"
  }
 },
 "nbformat": 4,
 "nbformat_minor": 5
}
