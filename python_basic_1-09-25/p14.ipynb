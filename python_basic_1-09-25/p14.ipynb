{
 "cells": [
  {
   "cell_type": "code",
   "execution_count": 1,
   "id": "bcd9c231",
   "metadata": {},
   "outputs": [
    {
     "name": "stdout",
     "output_type": "stream",
     "text": [
      "Uppercase: 1\n",
      "Lowercase: 14\n"
     ]
    }
   ],
   "source": [
    "text = input(\"Enter a string: \")\n",
    "upper = sum(1 for c in text if c.isupper())\n",
    "lower = sum(1 for c in text if c.islower())\n",
    "print(\"Uppercase:\", upper)\n",
    "print(\"Lowercase:\", lower)\n"
   ]
  }
 ],
 "metadata": {
  "kernelspec": {
   "display_name": "Python 3",
   "language": "python",
   "name": "python3"
  },
  "language_info": {
   "codemirror_mode": {
    "name": "ipython",
    "version": 3
   },
   "file_extension": ".py",
   "mimetype": "text/x-python",
   "name": "python",
   "nbconvert_exporter": "python",
   "pygments_lexer": "ipython3",
   "version": "3.11.0"
  }
 },
 "nbformat": 4,
 "nbformat_minor": 5
}
