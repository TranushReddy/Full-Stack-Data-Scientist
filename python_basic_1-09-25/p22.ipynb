{
 "cells": [
  {
   "cell_type": "code",
   "execution_count": 1,
   "id": "1e130303",
   "metadata": {},
   "outputs": [
    {
     "name": "stdout",
     "output_type": "stream",
     "text": [
      "Final amount: 750.0\n"
     ]
    }
   ],
   "source": [
    "cart_total = float(input(\"Enter cart total: \"))\n",
    "\n",
    "if cart_total > 500:\n",
    "    print(\"Final amount:\", cart_total)\n",
    "else:\n",
    "    print(\"Final amount:\", cart_total + 50)\n"
   ]
  }
 ],
 "metadata": {
  "kernelspec": {
   "display_name": "Python 3",
   "language": "python",
   "name": "python3"
  },
  "language_info": {
   "codemirror_mode": {
    "name": "ipython",
    "version": 3
   },
   "file_extension": ".py",
   "mimetype": "text/x-python",
   "name": "python",
   "nbconvert_exporter": "python",
   "pygments_lexer": "ipython3",
   "version": "3.11.0"
  }
 },
 "nbformat": 4,
 "nbformat_minor": 5
}
