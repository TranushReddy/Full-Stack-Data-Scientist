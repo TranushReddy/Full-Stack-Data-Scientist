{
 "cells": [
  {
   "cell_type": "code",
   "execution_count": 1,
   "id": "002f2b77",
   "metadata": {},
   "outputs": [
    {
     "name": "stdout",
     "output_type": "stream",
     "text": [
      "Transaction Successful\n"
     ]
    }
   ],
   "source": [
    "amount = int(input(\"Enter withdrawal amount: \"))\n",
    "\n",
    "if amount % 100 == 0:\n",
    "    print(\"Transaction Successful\")\n",
    "else:\n",
    "    print(\"Transaction Failed\")\n"
   ]
  }
 ],
 "metadata": {
  "kernelspec": {
   "display_name": "Python 3",
   "language": "python",
   "name": "python3"
  },
  "language_info": {
   "codemirror_mode": {
    "name": "ipython",
    "version": 3
   },
   "file_extension": ".py",
   "mimetype": "text/x-python",
   "name": "python",
   "nbconvert_exporter": "python",
   "pygments_lexer": "ipython3",
   "version": "3.11.0"
  }
 },
 "nbformat": 4,
 "nbformat_minor": 5
}
