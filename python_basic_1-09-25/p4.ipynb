{
 "cells": [
  {
   "cell_type": "code",
   "execution_count": 7,
   "metadata": {},
   "outputs": [
    {
     "name": "stdout",
     "output_type": "stream",
     "text": [
      "hello i am tranush\n",
      "vovel count : 6\n",
      "consonent count : 9\n"
     ]
    }
   ],
   "source": [
    "text=input()\n",
    "a='aeiouAEIOU'\n",
    "vc=0\n",
    "cc=0\n",
    "for i in range(len(text)):\n",
    "    if text[i] in a:\n",
    "        vc=vc+1\n",
    "    else:\n",
    "        if text[i].isalpha():\n",
    "            cc=cc+1\n",
    "print(text)\n",
    "print('vovel count :',vc)\n",
    "print('consonent count :',cc)"
   ]
  }
 ],
 "metadata": {
  "kernelspec": {
   "display_name": "Python 3",
   "language": "python",
   "name": "python3"
  },
  "language_info": {
   "codemirror_mode": {
    "name": "ipython",
    "version": 3
   },
   "file_extension": ".py",
   "mimetype": "text/x-python",
   "name": "python",
   "nbconvert_exporter": "python",
   "pygments_lexer": "ipython3",
   "version": "3.11.13"
  }
 },
 "nbformat": 4,
 "nbformat_minor": 2
}
