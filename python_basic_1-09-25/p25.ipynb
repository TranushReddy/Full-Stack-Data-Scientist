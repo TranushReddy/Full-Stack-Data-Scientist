{
 "cells": [
  {
   "cell_type": "code",
   "execution_count": 1,
   "id": "4ea3a5dd",
   "metadata": {},
   "outputs": [
    {
     "name": "stdout",
     "output_type": "stream",
     "text": [
      "Cheapest option: 4700\n"
     ]
    }
   ],
   "source": [
    "months = int(input(\"Enter membership period (months): \"))\n",
    "\n",
    "cost1 = months * 500\n",
    "cost2 = (months // 6) * 2700 + (months % 6) * 500\n",
    "cost3 = (months // 12) * 5000 + (months % 12) * 500\n",
    "\n",
    "print(\"Cheapest option:\", min(cost1, cost2, cost3))\n"
   ]
  }
 ],
 "metadata": {
  "kernelspec": {
   "display_name": "Python 3",
   "language": "python",
   "name": "python3"
  },
  "language_info": {
   "codemirror_mode": {
    "name": "ipython",
    "version": 3
   },
   "file_extension": ".py",
   "mimetype": "text/x-python",
   "name": "python",
   "nbconvert_exporter": "python",
   "pygments_lexer": "ipython3",
   "version": "3.11.0"
  }
 },
 "nbformat": 4,
 "nbformat_minor": 5
}
