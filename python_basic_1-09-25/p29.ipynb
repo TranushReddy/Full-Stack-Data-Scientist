{
 "cells": [
  {
   "cell_type": "code",
   "execution_count": 1,
   "id": "defa7b08",
   "metadata": {},
   "outputs": [
    {
     "name": "stdout",
     "output_type": "stream",
     "text": [
      "Fine: 100\n"
     ]
    }
   ],
   "source": [
    "days = int(input(\"Enter late days: \"))\n",
    "\n",
    "if 1 <= days <= 5:\n",
    "    fine = 10\n",
    "elif 6 <= days <= 10:\n",
    "    fine = 50\n",
    "elif days > 10:\n",
    "    fine = 100\n",
    "else:\n",
    "    fine = 0\n",
    "\n",
    "print(\"Fine:\", fine)\n"
   ]
  }
 ],
 "metadata": {
  "kernelspec": {
   "display_name": "Python 3",
   "language": "python",
   "name": "python3"
  },
  "language_info": {
   "codemirror_mode": {
    "name": "ipython",
    "version": 3
   },
   "file_extension": ".py",
   "mimetype": "text/x-python",
   "name": "python",
   "nbconvert_exporter": "python",
   "pygments_lexer": "ipython3",
   "version": "3.11.0"
  }
 },
 "nbformat": 4,
 "nbformat_minor": 5
}
