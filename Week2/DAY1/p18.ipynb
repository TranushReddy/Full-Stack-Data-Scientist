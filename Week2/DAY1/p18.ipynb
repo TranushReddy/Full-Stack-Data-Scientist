{
 "cells": [
  {
   "cell_type": "code",
   "execution_count": null,
   "id": "4687b7d4",
   "metadata": {},
   "outputs": [
    {
     "name": "stdout",
     "output_type": "stream",
     "text": [
      "{'hello': 1, 'i': 1, 'am': 1, 'tranush': 1}\n"
     ]
    }
   ],
   "source": [
    "def unique_words(sentence):\n",
    "    words = sentence.split()\n",
    "    counter = {}\n",
    "    for w in words:\n",
    "        counter[w] = counter.get(w, 0) + 1\n",
    "    return counter\n",
    "\n",
    "\n",
    "s = input(\"Enter a sentence: \")\n",
    "print(unique_words(s))"
   ]
  }
 ],
 "metadata": {
  "kernelspec": {
   "display_name": "Python 3",
   "language": "python",
   "name": "python3"
  },
  "language_info": {
   "codemirror_mode": {
    "name": "ipython",
    "version": 3
   },
   "file_extension": ".py",
   "mimetype": "text/x-python",
   "name": "python",
   "nbconvert_exporter": "python",
   "pygments_lexer": "ipython3",
   "version": "3.11.0"
  }
 },
 "nbformat": 4,
 "nbformat_minor": 5
}
