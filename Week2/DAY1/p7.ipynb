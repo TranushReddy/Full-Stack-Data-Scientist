{
 "cells": [
  {
   "cell_type": "code",
   "execution_count": null,
   "id": "9316d889",
   "metadata": {},
   "outputs": [
    {
     "name": "stdout",
     "output_type": "stream",
     "text": [
      "7.0\n"
     ]
    }
   ],
   "source": [
    "import math\n",
    "\n",
    "\n",
    "def simple_calculator(expr):\n",
    "    if expr.startswith(\"sqrt(\") and expr.endswith(\")\"):\n",
    "        v = float(expr[5:-1])\n",
    "        return math.sqrt(v)\n",
    "    elif expr.startswith(\"factorial(\") and expr.endswith(\")\"):\n",
    "        v = int(expr[10:-1])\n",
    "        return math.factorial(v)\n",
    "    elif expr.startswith(\"sin(\") and expr.endswith(\")\"):\n",
    "        v = float(expr[4:-1])\n",
    "        return math.sin(math.radians(v))\n",
    "    elif expr.startswith(\"cos(\") and expr.endswith(\")\"):\n",
    "        v = float(expr[4:-1])\n",
    "        return math.cos(math.radians(v))\n",
    "    else:\n",
    "        return \"Invalid expression\"\n",
    "\n",
    "\n",
    "expr = input(\"Enter expression: \")\n",
    "print(simple_calculator(expr))"
   ]
  }
 ],
 "metadata": {
  "kernelspec": {
   "display_name": "Python 3",
   "language": "python",
   "name": "python3"
  },
  "language_info": {
   "codemirror_mode": {
    "name": "ipython",
    "version": 3
   },
   "file_extension": ".py",
   "mimetype": "text/x-python",
   "name": "python",
   "nbconvert_exporter": "python",
   "pygments_lexer": "ipython3",
   "version": "3.11.0"
  }
 },
 "nbformat": 4,
 "nbformat_minor": 5
}
