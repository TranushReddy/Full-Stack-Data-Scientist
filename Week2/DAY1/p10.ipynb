{
 "cells": [
  {
   "cell_type": "code",
   "execution_count": null,
   "id": "a896e1ca",
   "metadata": {},
   "outputs": [
    {
     "name": "stdout",
     "output_type": "stream",
     "text": [
      "7\n",
      "6\n",
      "5\n",
      "4\n",
      "3\n",
      "2\n",
      "1\n",
      "Time’s up!\n"
     ]
    }
   ],
   "source": [
    "import time\n",
    "\n",
    "\n",
    "def countdown(n):\n",
    "    for i in range(n, 0, -1):\n",
    "        print(i)\n",
    "        time.sleep(1)\n",
    "    print(\"Time’s up!\")\n",
    "\n",
    "\n",
    "n = int(input(\"Enter countdown time in seconds: \"))\n",
    "countdown(n)"
   ]
  }
 ],
 "metadata": {
  "kernelspec": {
   "display_name": "Python 3",
   "language": "python",
   "name": "python3"
  },
  "language_info": {
   "codemirror_mode": {
    "name": "ipython",
    "version": 3
   },
   "file_extension": ".py",
   "mimetype": "text/x-python",
   "name": "python",
   "nbconvert_exporter": "python",
   "pygments_lexer": "ipython3",
   "version": "3.11.0"
  }
 },
 "nbformat": 4,
 "nbformat_minor": 5
}
