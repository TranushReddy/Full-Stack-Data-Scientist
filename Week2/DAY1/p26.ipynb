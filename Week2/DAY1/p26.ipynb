{
 "cells": [
  {
   "cell_type": "code",
   "execution_count": null,
   "id": "684493a1",
   "metadata": {},
   "outputs": [
    {
     "name": "stdout",
     "output_type": "stream",
     "text": [
      "You borrowed Book A\n",
      "You returned Book C\n",
      "Available books: {'Book A': 2, 'Book B': 2, 'Book C': 1}\n"
     ]
    }
   ],
   "source": [
    "class Library:\n",
    "    def __init__(self, books):\n",
    "        self.books = books\n",
    "\n",
    "    def borrow(self, title):\n",
    "        if title in self.books and self.books[title] > 0:\n",
    "            self.books[title] -= 1\n",
    "            return f\"You borrowed {title}\"\n",
    "        else:\n",
    "            return f\"{title} is not available\"\n",
    "\n",
    "    def return_book(self, title):\n",
    "        if title in self.books:\n",
    "            self.books[title] += 1\n",
    "            return f\"You returned {title}\"\n",
    "        else:\n",
    "            return f\"{title} does not belong to this library\"\n",
    "\n",
    "    def show_books(self):\n",
    "        print(f\"Available books: {self.books}\")\n",
    "\n",
    "\n",
    "lib = Library({\"Book A\": 3, \"Book B\": 2, \"Book C\": 0})\n",
    "print(lib.borrow(\"Book A\"))\n",
    "print(lib.return_book(\"Book C\"))\n",
    "lib.show_books()"
   ]
  }
 ],
 "metadata": {
  "kernelspec": {
   "display_name": "Python 3",
   "language": "python",
   "name": "python3"
  },
  "language_info": {
   "codemirror_mode": {
    "name": "ipython",
    "version": 3
   },
   "file_extension": ".py",
   "mimetype": "text/x-python",
   "name": "python",
   "nbconvert_exporter": "python",
   "pygments_lexer": "ipython3",
   "version": "3.11.0"
  }
 },
 "nbformat": 4,
 "nbformat_minor": 5
}
