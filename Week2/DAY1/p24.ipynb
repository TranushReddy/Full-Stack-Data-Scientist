{
 "cells": [
  {
   "cell_type": "code",
   "execution_count": null,
   "id": "6bd449cd",
   "metadata": {},
   "outputs": [
    {
     "name": "stdout",
     "output_type": "stream",
     "text": [
      "You chose Rock, Computer chose Scissors\n",
      "You Win!\n"
     ]
    }
   ],
   "source": [
    "import random\n",
    "\n",
    "choices = [\"Rock\", \"Paper\", \"Scissors\"]\n",
    "user_choice = input(\"Enter Rock, Paper, or Scissors: \").capitalize()\n",
    "computer_choice = random.choice(choices)\n",
    "\n",
    "print(f\"You chose {user_choice}, Computer chose {computer_choice}\")\n",
    "\n",
    "if user_choice == computer_choice:\n",
    "    print(\"It's a Tie!\")\n",
    "elif (\n",
    "    (user_choice == \"Rock\" and computer_choice == \"Scissors\")\n",
    "    or (user_choice == \"Paper\" and computer_choice == \"Rock\")\n",
    "    or (user_choice == \"Scissors\" and computer_choice == \"Paper\")\n",
    "):\n",
    "    print(\"You Win!\")\n",
    "else:\n",
    "    print(\"You Lose!\")"
   ]
  }
 ],
 "metadata": {
  "kernelspec": {
   "display_name": "Python 3",
   "language": "python",
   "name": "python3"
  },
  "language_info": {
   "codemirror_mode": {
    "name": "ipython",
    "version": 3
   },
   "file_extension": ".py",
   "mimetype": "text/x-python",
   "name": "python",
   "nbconvert_exporter": "python",
   "pygments_lexer": "ipython3",
   "version": "3.11.0"
  }
 },
 "nbformat": 4,
 "nbformat_minor": 5
}
