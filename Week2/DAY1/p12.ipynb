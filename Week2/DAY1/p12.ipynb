{
 "cells": [
  {
   "cell_type": "code",
   "execution_count": 1,
   "id": "4593746c",
   "metadata": {},
   "outputs": [
    {
     "name": "stdout",
     "output_type": "stream",
     "text": [
      "Average mark: 97.5\n",
      "Highest mark: 100.0\n",
      "Lowest mark: 95.0\n"
     ]
    }
   ],
   "source": [
    "class Student:\n",
    "    def __init__(self, name, marks):\n",
    "        self.name = name\n",
    "        self.marks = marks\n",
    "\n",
    "    def get_average(self):\n",
    "        if not self.marks:\n",
    "            return 0.0\n",
    "        return sum(self.marks) / len(self.marks)\n",
    "\n",
    "    def add_mark(self, mark):\n",
    "        self.marks.append(mark)\n",
    "\n",
    "    def get_highest(self):\n",
    "        if not self.marks:\n",
    "            return None\n",
    "        return max(self.marks)\n",
    "\n",
    "    def get_lowest(self):\n",
    "        if not self.marks:\n",
    "            return None\n",
    "        return min(self.marks)\n",
    "\n",
    "\n",
    "name = input(\"Enter student's name: \")\n",
    "marks_input = input(\"Enter marks separated by spaces: \")\n",
    "marks = list(map(float, marks_input.split()))\n",
    "student = Student(name, marks)\n",
    "print(f\"Average mark: {student.get_average()}\")\n",
    "print(f\"Highest mark: {student.get_highest()}\")\n",
    "print(f\"Lowest mark: {student.get_lowest()}\")"
   ]
  }
 ],
 "metadata": {
  "kernelspec": {
   "display_name": "Python 3",
   "language": "python",
   "name": "python3"
  },
  "language_info": {
   "codemirror_mode": {
    "name": "ipython",
    "version": 3
   },
   "file_extension": ".py",
   "mimetype": "text/x-python",
   "name": "python",
   "nbconvert_exporter": "python",
   "pygments_lexer": "ipython3",
   "version": "3.11.0"
  }
 },
 "nbformat": 4,
 "nbformat_minor": 5
}
