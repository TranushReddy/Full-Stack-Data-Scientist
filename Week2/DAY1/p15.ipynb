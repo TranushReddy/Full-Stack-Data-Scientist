{
 "cells": [
  {
   "cell_type": "code",
   "execution_count": 1,
   "id": "fa2c0453",
   "metadata": {},
   "outputs": [
    {
     "name": "stdout",
     "output_type": "stream",
     "text": [
      "Total = 2500.0\n",
      "shirt: 1000.0\n",
      "jacket: 1500.0\n",
      "jacket: 1500.0\n"
     ]
    }
   ],
   "source": [
    "class Order:\n",
    "    def __init__(self):\n",
    "        self.items = {}\n",
    "\n",
    "    def add(self, item, price):\n",
    "        self.items[item] = price\n",
    "\n",
    "    def remove(self, item):\n",
    "        if item in self.items:\n",
    "            del self.items[item]\n",
    "\n",
    "    def calculate_total(self):\n",
    "        total = sum(self.items.values())\n",
    "        print(f\"Total = {total}\")\n",
    "        return total\n",
    "\n",
    "    def show_items(self):\n",
    "        for item, price in self.items.items():\n",
    "            print(f\"{item}: {price}\")\n",
    "\n",
    "\n",
    "order = Order()\n",
    "while True:\n",
    "    action = input(\"Enter action (add, remove, total, show, exit): \").strip().lower()\n",
    "    if action == \"add\":\n",
    "        item = input(\"Enter item name: \")\n",
    "        price = float(input(\"Enter item price: \"))\n",
    "        order.add(item, price)\n",
    "    elif action == \"remove\":\n",
    "        item = input(\"Enter item name to remove: \")\n",
    "        order.remove(item)\n",
    "    elif action == \"total\":\n",
    "        order.calculate_total()\n",
    "    elif action == \"show\":\n",
    "        order.show_items()\n",
    "    elif action == \"exit\":\n",
    "        break\n",
    "    else:\n",
    "        print(\"Invalid action. Please try again.\")"
   ]
  }
 ],
 "metadata": {
  "kernelspec": {
   "display_name": "Python 3",
   "language": "python",
   "name": "python3"
  },
  "language_info": {
   "codemirror_mode": {
    "name": "ipython",
    "version": 3
   },
   "file_extension": ".py",
   "mimetype": "text/x-python",
   "name": "python",
   "nbconvert_exporter": "python",
   "pygments_lexer": "ipython3",
   "version": "3.11.0"
  }
 },
 "nbformat": 4,
 "nbformat_minor": 5
}
