{
 "cells": [
  {
   "cell_type": "code",
   "execution_count": 4,
   "id": "59aa0b98",
   "metadata": {},
   "outputs": [
    {
     "name": "stdout",
     "output_type": "stream",
     "text": [
      "Oywd#V\n"
     ]
    }
   ],
   "source": [
    "import random\n",
    "import string\n",
    "\n",
    "\n",
    "def generate_password(length):\n",
    "    chars = string.ascii_letters + string.digits + string.punctuation\n",
    "    return \"\".join(random.choice(chars) for _ in range(length))\n",
    "\n",
    "\n",
    "length = int(input(\"Enter password length (default 6): \") or 6)\n",
    "password = generate_password(length)\n",
    "print(password)"
   ]
  }
 ],
 "metadata": {
  "kernelspec": {
   "display_name": "Python 3",
   "language": "python",
   "name": "python3"
  },
  "language_info": {
   "codemirror_mode": {
    "name": "ipython",
    "version": 3
   },
   "file_extension": ".py",
   "mimetype": "text/x-python",
   "name": "python",
   "nbconvert_exporter": "python",
   "pygments_lexer": "ipython3",
   "version": "3.11.0"
  }
 },
 "nbformat": 4,
 "nbformat_minor": 5
}
