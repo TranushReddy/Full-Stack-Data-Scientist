{
 "cells": [
  {
   "cell_type": "code",
   "execution_count": 1,
   "id": "939f7ba2",
   "metadata": {},
   "outputs": [
    {
     "name": "stdout",
     "output_type": "stream",
     "text": [
      "Booked 5 tickets for Inception\n",
      "Cancelled 2 tickets for Interstellar\n",
      "Movies: {'Inception': 95, 'Interstellar': 52, 'Dunkirk': 75}\n",
      "None\n"
     ]
    }
   ],
   "source": [
    "class Cinema:\n",
    "    def __init__(self, movies):\n",
    "        self.movies = movies\n",
    "\n",
    "    def book(self, movie, seats):\n",
    "        if movie not in self.movies:\n",
    "            return f\"{movie} not found\"\n",
    "        if self.movies[movie] < seats:\n",
    "            return f\"Not enough seats for {movie}\"\n",
    "        self.movies[movie] -= seats\n",
    "        return f\"Booked {seats} tickets for {movie}\"\n",
    "\n",
    "    def cancel(self, movie, seats):\n",
    "        if movie not in self.movies:\n",
    "            return f\"{movie} not found\"\n",
    "        self.movies[movie] += seats\n",
    "        return f\"Cancelled {seats} ticket{'s' if seats > 1 else ''} for {movie}\"\n",
    "\n",
    "    def show_movies(self):\n",
    "        print(f\"Movies: {self.movies}\")\n",
    "        \n",
    "cinema = Cinema({\"Inception\": 100, \"Interstellar\": 50, \"Dunkirk\": 75})\n",
    "print(cinema.book(\"Inception\", 5))\n",
    "print(cinema.cancel(\"Interstellar\", 2))\n",
    "print(cinema.show_movies())"
   ]
  }
 ],
 "metadata": {
  "kernelspec": {
   "display_name": "Python 3",
   "language": "python",
   "name": "python3"
  },
  "language_info": {
   "codemirror_mode": {
    "name": "ipython",
    "version": 3
   },
   "file_extension": ".py",
   "mimetype": "text/x-python",
   "name": "python",
   "nbconvert_exporter": "python",
   "pygments_lexer": "ipython3",
   "version": "3.11.0"
  }
 },
 "nbformat": 4,
 "nbformat_minor": 5
}
