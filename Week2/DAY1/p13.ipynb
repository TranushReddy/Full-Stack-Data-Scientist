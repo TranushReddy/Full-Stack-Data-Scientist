{
 "cells": [
  {
   "cell_type": "code",
   "execution_count": 1,
   "id": "5314cd0c",
   "metadata": {},
   "outputs": [
    {
     "name": "stdout",
     "output_type": "stream",
     "text": [
      "Alice (Manager) Bonus: $16000\n",
      "Bob (Developer) Bonus: $6000\n",
      "Charlie (Intern) Bonus: $1500\n"
     ]
    }
   ],
   "source": [
    "class Employee:\n",
    "    def __init__(self, name, salary, role):\n",
    "        self.name = name\n",
    "        self.salary = salary\n",
    "        self.role = role\n",
    "\n",
    "    def bonus(self):\n",
    "        if self.role == \"Manager\":\n",
    "            return int(self.salary * 0.20)\n",
    "        elif self.role == \"Developer\":\n",
    "            return int(self.salary * 0.10)\n",
    "        elif self.role == \"Intern\":\n",
    "            return int(self.salary * 0.05)\n",
    "        else:\n",
    "            return 0\n",
    "\n",
    "\n",
    "class Manager(Employee):\n",
    "    def __init__(self, name, salary):\n",
    "        super().__init__(name, salary, \"Manager\")\n",
    "\n",
    "\n",
    "class Developer(Employee):\n",
    "    def __init__(self, name, salary):\n",
    "        super().__init__(name, salary, \"Developer\")\n",
    "\n",
    "\n",
    "class Intern(Employee):\n",
    "    def __init__(self, name, salary):\n",
    "        super().__init__(name, salary, \"Intern\")\n",
    "\n",
    "\n",
    "mgr = Manager(\"Alice\", 80000)\n",
    "dev = Developer(\"Bob\", 60000)\n",
    "intern = Intern(\"Charlie\", 30000)\n",
    "print(f\"{mgr.name} (Manager) Bonus: ${mgr.bonus()}\")\n",
    "print(f\"{dev.name} (Developer) Bonus: ${dev.bonus()}\")\n",
    "print(f\"{intern.name} (Intern) Bonus: ${intern.bonus()}\")"
   ]
  }
 ],
 "metadata": {
  "kernelspec": {
   "display_name": "Python 3",
   "language": "python",
   "name": "python3"
  },
  "language_info": {
   "codemirror_mode": {
    "name": "ipython",
    "version": 3
   },
   "file_extension": ".py",
   "mimetype": "text/x-python",
   "name": "python",
   "nbconvert_exporter": "python",
   "pygments_lexer": "ipython3",
   "version": "3.11.0"
  }
 },
 "nbformat": 4,
 "nbformat_minor": 5
}
