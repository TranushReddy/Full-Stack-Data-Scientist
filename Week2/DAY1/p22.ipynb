{
 "cells": [
  {
   "cell_type": "code",
   "execution_count": null,
   "id": "f26e2b9c",
   "metadata": {},
   "outputs": [
    {
     "name": "stdout",
     "output_type": "stream",
     "text": [
      "Mean = 40\n",
      "Median = 40\n",
      "Variance = 250\n"
     ]
    }
   ],
   "source": [
    "import statistics\n",
    "\n",
    "Scores = list(map(int, input(\"Enter scores separated by spaces: \").split()))\n",
    "\n",
    "mean = round(statistics.mean(Scores), 2)\n",
    "median = statistics.median(Scores)\n",
    "variance = round(statistics.variance(Scores), 2)\n",
    "\n",
    "print(f\"Mean = {mean}\")\n",
    "print(f\"Median = {median}\")\n",
    "print(f\"Variance = {variance}\")"
   ]
  }
 ],
 "metadata": {
  "kernelspec": {
   "display_name": "Python 3",
   "language": "python",
   "name": "python3"
  },
  "language_info": {
   "codemirror_mode": {
    "name": "ipython",
    "version": 3
   },
   "file_extension": ".py",
   "mimetype": "text/x-python",
   "name": "python",
   "nbconvert_exporter": "python",
   "pygments_lexer": "ipython3",
   "version": "3.11.0"
  }
 },
 "nbformat": 4,
 "nbformat_minor": 5
}
