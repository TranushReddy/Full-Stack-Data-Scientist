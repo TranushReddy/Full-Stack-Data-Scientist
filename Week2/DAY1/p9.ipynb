{
 "cells": [
  {
   "cell_type": "code",
   "execution_count": null,
   "id": "c3bd5f6d",
   "metadata": {},
   "outputs": [
    {
     "name": "stdout",
     "output_type": "stream",
     "text": [
      "Weather: Sunny, Temp: 37°C\n"
     ]
    }
   ],
   "source": [
    "import random\n",
    "\n",
    "\n",
    "def weather_simulator():\n",
    "    weather_options = [\"Sunny\", \"Cloudy\", \"Rainy\", \"Windy\", \"Stormy\"]\n",
    "    temp = random.randint(15, 40)\n",
    "    weather = random.choice(weather_options)\n",
    "    print(f\"Weather: {weather}, Temp: {temp}°C\")\n",
    "\n",
    "\n",
    "weather_simulator()"
   ]
  }
 ],
 "metadata": {
  "kernelspec": {
   "display_name": "Python 3",
   "language": "python",
   "name": "python3"
  },
  "language_info": {
   "codemirror_mode": {
    "name": "ipython",
    "version": 3
   },
   "file_extension": ".py",
   "mimetype": "text/x-python",
   "name": "python",
   "nbconvert_exporter": "python",
   "pygments_lexer": "ipython3",
   "version": "3.11.0"
  }
 },
 "nbformat": 4,
 "nbformat_minor": 5
}
