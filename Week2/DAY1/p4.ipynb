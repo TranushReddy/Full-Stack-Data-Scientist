{
 "cells": [
  {
   "cell_type": "code",
   "execution_count": null,
   "id": "2a2a337a",
   "metadata": {},
   "outputs": [
    {
     "name": "stdout",
     "output_type": "stream",
     "text": [
      "Vowels=2, Consonants=3\n"
     ]
    }
   ],
   "source": [
    "def count_vowels_consonants(word):\n",
    "    vowels = \"aeiou\"\n",
    "    v_count = sum(1 for ch in word.lower() if ch in vowels)\n",
    "    c_count = sum(1 for ch in word.lower() if ch.isalpha() and ch not in vowels)\n",
    "    return f\"Vowels={v_count}, Consonants={c_count}\"\n",
    "\n",
    "\n",
    "s = input(\"Enter a string: \")\n",
    "print(count_vowels_consonants(s))"
   ]
  }
 ],
 "metadata": {
  "kernelspec": {
   "display_name": "Python 3",
   "language": "python",
   "name": "python3"
  },
  "language_info": {
   "codemirror_mode": {
    "name": "ipython",
    "version": 3
   },
   "file_extension": ".py",
   "mimetype": "text/x-python",
   "name": "python",
   "nbconvert_exporter": "python",
   "pygments_lexer": "ipython3",
   "version": "3.11.0"
  }
 },
 "nbformat": 4,
 "nbformat_minor": 5
}
