{
 "cells": [
  {
   "cell_type": "code",
   "execution_count": 1,
   "id": "d456313f",
   "metadata": {},
   "outputs": [
    {
     "name": "stdout",
     "output_type": "stream",
     "text": [
      "30°C is 86.0°F\n",
      "45°F is 7.222222222222222°C\n"
     ]
    }
   ],
   "source": [
    "def celsius_to_fahrenheit(celsius):\n",
    "    return (celsius * 9 / 5) + 32\n",
    "\n",
    "\n",
    "def fahrenheit_to_celsius(fahrenheit):\n",
    "    return (fahrenheit - 32) * 5 / 9\n",
    "\n",
    "\n",
    "celsius_temp = int(input(\"Enter temperature in Celsius: \"))\n",
    "fahrenheit_temp = celsius_to_fahrenheit(celsius_temp)\n",
    "print(f\"{celsius_temp}°C is {fahrenheit_temp}°F\")\n",
    "\n",
    "fahrenheit_temp = int(input(\"Enter temperature in Fahrenheit: \"))\n",
    "celsius_temp = fahrenheit_to_celsius(fahrenheit_temp)\n",
    "print(f\"{fahrenheit_temp}°F is {celsius_temp}°C\")"
   ]
  }
 ],
 "metadata": {
  "kernelspec": {
   "display_name": "Python 3",
   "language": "python",
   "name": "python3"
  },
  "language_info": {
   "codemirror_mode": {
    "name": "ipython",
    "version": 3
   },
   "file_extension": ".py",
   "mimetype": "text/x-python",
   "name": "python",
   "nbconvert_exporter": "python",
   "pygments_lexer": "ipython3",
   "version": "3.11.0"
  }
 },
 "nbformat": 4,
 "nbformat_minor": 5
}
