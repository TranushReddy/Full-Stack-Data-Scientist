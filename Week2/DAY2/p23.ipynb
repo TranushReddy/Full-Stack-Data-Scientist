{
 "cells": [
  {
   "cell_type": "code",
   "execution_count": 2,
   "id": "31240228",
   "metadata": {},
   "outputs": [
    {
     "name": "stdout",
     "output_type": "stream",
     "text": [
      "Total Bill =  500\n",
      "Bill processing finished.\n"
     ]
    }
   ],
   "source": [
    "def calculate_bill(units):\n",
    "    if units <= 100:\n",
    "        return units * 5\n",
    "    elif units <= 200:\n",
    "        return (100 * 5) + (units - 100) * 7\n",
    "    else:\n",
    "        return (100 * 5) + (100 * 7) + (units - 200) * 10\n",
    "\n",
    "\n",
    "try:\n",
    "    units = int(input(\"Enter electricity units consumed: \"))\n",
    "    bill = calculate_bill(units)\n",
    "    print(\"Total Bill = \", bill)\n",
    "except ValueError:\n",
    "    print(\"Error: Please enter a valid integer for units.\")\n",
    "finally:\n",
    "    print(\"Bill processing finished.\")"
   ]
  }
 ],
 "metadata": {
  "kernelspec": {
   "display_name": "Python 3",
   "language": "python",
   "name": "python3"
  },
  "language_info": {
   "codemirror_mode": {
    "name": "ipython",
    "version": 3
   },
   "file_extension": ".py",
   "mimetype": "text/x-python",
   "name": "python",
   "nbconvert_exporter": "python",
   "pygments_lexer": "ipython3",
   "version": "3.11.0"
  }
 },
 "nbformat": 4,
 "nbformat_minor": 5
}
