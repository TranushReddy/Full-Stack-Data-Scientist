{
 "cells": [
  {
   "cell_type": "code",
   "execution_count": 1,
   "id": "7908b839",
   "metadata": {},
   "outputs": [
    {
     "name": "stdout",
     "output_type": "stream",
     "text": [
      "60\n",
      "20\n"
     ]
    }
   ],
   "source": [
    "def find_largest(numbers):\n",
    "    if not numbers:\n",
    "        return None\n",
    "    return max(numbers)\n",
    "\n",
    "\n",
    "def find_smallest(numbers):\n",
    "    if not numbers:\n",
    "        return None\n",
    "    return min(numbers)\n",
    "\n",
    "\n",
    "n = list(map(int, input().split()))\n",
    "print(find_largest(n))\n",
    "print(find_smallest(n))"
   ]
  }
 ],
 "metadata": {
  "kernelspec": {
   "display_name": "Python 3",
   "language": "python",
   "name": "python3"
  },
  "language_info": {
   "codemirror_mode": {
    "name": "ipython",
    "version": 3
   },
   "file_extension": ".py",
   "mimetype": "text/x-python",
   "name": "python",
   "nbconvert_exporter": "python",
   "pygments_lexer": "ipython3",
   "version": "3.11.0"
  }
 },
 "nbformat": 4,
 "nbformat_minor": 5
}
