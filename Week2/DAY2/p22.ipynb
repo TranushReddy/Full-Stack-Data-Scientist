{
 "cells": [
  {
   "cell_type": "code",
   "execution_count": 1,
   "id": "c96e0f53",
   "metadata": {},
   "outputs": [
    {
     "name": "stdout",
     "output_type": "stream",
     "text": [
      "Error: Withdrawal amount exceeds balance.\n"
     ]
    }
   ],
   "source": [
    "class InsufficientBalanceError(Exception):\n",
    "    pass\n",
    "\n",
    "\n",
    "def withdraw(balance, amount):\n",
    "    if amount > balance:\n",
    "        raise InsufficientBalanceError(\"Error: Withdrawal amount exceeds balance.\")\n",
    "    balance -= amount\n",
    "    return balance\n",
    "\n",
    "\n",
    "try:\n",
    "    balance = float(input(\"Enter account balance: \"))\n",
    "    amount = float(input(\"Enter withdrawal amount: \"))\n",
    "    balance = withdraw(balance, amount)\n",
    "    print(\"Withdrawal successful. Remaining Balance:\", balance)\n",
    "except InsufficientBalanceError as e:\n",
    "    print(e)\n",
    "except ValueError:\n",
    "    print(\"Error: Please enter valid numeric values.\")"
   ]
  }
 ],
 "metadata": {
  "kernelspec": {
   "display_name": "Python 3",
   "language": "python",
   "name": "python3"
  },
  "language_info": {
   "codemirror_mode": {
    "name": "ipython",
    "version": 3
   },
   "file_extension": ".py",
   "mimetype": "text/x-python",
   "name": "python",
   "nbconvert_exporter": "python",
   "pygments_lexer": "ipython3",
   "version": "3.11.0"
  }
 },
 "nbformat": 4,
 "nbformat_minor": 5
}
