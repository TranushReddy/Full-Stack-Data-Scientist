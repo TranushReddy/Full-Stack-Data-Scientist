{
 "cells": [
  {
   "cell_type": "code",
   "execution_count": 1,
   "id": "b0391b02",
   "metadata": {},
   "outputs": [
    {
     "name": "stdout",
     "output_type": "stream",
     "text": [
      "Defaulters (attendance < 75%): ['Bob', 'David', 'Eva']\n"
     ]
    }
   ],
   "source": [
    "attendance = {\"Alice\": 82, \"Bob\": 67, \"Charlie\": 90, \"David\": 72, \"Eva\": 60}\n",
    "\n",
    "defaulters = [name for name, percent in attendance.items() if percent < 75]\n",
    "\n",
    "print(\"Defaulters (attendance < 75%):\", defaulters)"
   ]
  }
 ],
 "metadata": {
  "kernelspec": {
   "display_name": "Python 3",
   "language": "python",
   "name": "python3"
  },
  "language_info": {
   "codemirror_mode": {
    "name": "ipython",
    "version": 3
   },
   "file_extension": ".py",
   "mimetype": "text/x-python",
   "name": "python",
   "nbconvert_exporter": "python",
   "pygments_lexer": "ipython3",
   "version": "3.11.0"
  }
 },
 "nbformat": 4,
 "nbformat_minor": 5
}
