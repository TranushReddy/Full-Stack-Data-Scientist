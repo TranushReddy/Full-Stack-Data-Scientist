{
 "cells": [
  {
   "cell_type": "code",
   "execution_count": 1,
   "id": "07f1eca8",
   "metadata": {},
   "outputs": [
    {
     "name": "stdout",
     "output_type": "stream",
     "text": [
      "Incorrect PIN \n",
      "Incorrect PIN \n",
      "Access Granted \n"
     ]
    }
   ],
   "source": [
    "correct_pin = \"1234\"\n",
    "\n",
    "for attempt in range(3):\n",
    "    pin = input(\"Enter PIN: \")\n",
    "    if pin == correct_pin:\n",
    "        print(\"Access Granted \")\n",
    "        break\n",
    "    else:\n",
    "        print(\"Incorrect PIN \")\n",
    "else:\n",
    "    print(\"Account Locked \")"
   ]
  }
 ],
 "metadata": {
  "kernelspec": {
   "display_name": "Python 3",
   "language": "python",
   "name": "python3"
  },
  "language_info": {
   "codemirror_mode": {
    "name": "ipython",
    "version": 3
   },
   "file_extension": ".py",
   "mimetype": "text/x-python",
   "name": "python",
   "nbconvert_exporter": "python",
   "pygments_lexer": "ipython3",
   "version": "3.11.0"
  }
 },
 "nbformat": 4,
 "nbformat_minor": 5
}
