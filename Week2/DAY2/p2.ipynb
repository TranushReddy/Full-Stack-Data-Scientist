{
 "cells": [
  {
   "cell_type": "code",
   "execution_count": 1,
   "id": "8507af4d",
   "metadata": {},
   "outputs": [
    {
     "name": "stdout",
     "output_type": "stream",
     "text": [
      "The password is strong.\n"
     ]
    }
   ],
   "source": [
    "import re\n",
    "\n",
    "\n",
    "def is_strong_password(password):\n",
    "    if len(password) < 8:\n",
    "        return False\n",
    "    if not re.search(r\"[A-Z]\", password):\n",
    "        return False\n",
    "    if not re.search(r\"[a-z]\", password):\n",
    "        return False\n",
    "    if not re.search(r\"\\d\", password):\n",
    "        return False\n",
    "    if not re.search(r\"[^A-Za-z0-9]\", password):\n",
    "        return False\n",
    "    return True\n",
    "\n",
    "\n",
    "password = input(\"Enter a password to check its strength: \")\n",
    "if is_strong_password(password):\n",
    "    print(\"The password is strong.\")\n",
    "else:\n",
    "    print(\"The password is weak.\")"
   ]
  }
 ],
 "metadata": {
  "kernelspec": {
   "display_name": "Python 3",
   "language": "python",
   "name": "python3"
  },
  "language_info": {
   "codemirror_mode": {
    "name": "ipython",
    "version": 3
   },
   "file_extension": ".py",
   "mimetype": "text/x-python",
   "name": "python",
   "nbconvert_exporter": "python",
   "pygments_lexer": "ipython3",
   "version": "3.11.0"
  }
 },
 "nbformat": 4,
 "nbformat_minor": 5
}
