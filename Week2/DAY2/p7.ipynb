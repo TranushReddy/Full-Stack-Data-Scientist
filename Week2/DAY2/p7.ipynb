{
 "cells": [
  {
   "cell_type": "code",
   "execution_count": 1,
   "id": "2a2f06e4",
   "metadata": {},
   "outputs": [
    {
     "name": "stdout",
     "output_type": "stream",
     "text": [
      "Simple Interest: 150.0\n"
     ]
    }
   ],
   "source": [
    "def calculate_simple_interest(principal, rate, time):\n",
    "    return (principal * rate * time) / 100\n",
    "\n",
    "\n",
    "principal = int(input(\"Enter the principal amount: \"))\n",
    "rate = int(input(\"Enter the rate of interest: \"))\n",
    "time = int(input(\"Enter the time in years: \"))\n",
    "\n",
    "simple_interest = calculate_simple_interest(principal, rate, time)\n",
    "print(f\"Simple Interest: {simple_interest}\")"
   ]
  }
 ],
 "metadata": {
  "kernelspec": {
   "display_name": "Python 3",
   "language": "python",
   "name": "python3"
  },
  "language_info": {
   "codemirror_mode": {
    "name": "ipython",
    "version": 3
   },
   "file_extension": ".py",
   "mimetype": "text/x-python",
   "name": "python",
   "nbconvert_exporter": "python",
   "pygments_lexer": "ipython3",
   "version": "3.11.0"
  }
 },
 "nbformat": 4,
 "nbformat_minor": 5
}
