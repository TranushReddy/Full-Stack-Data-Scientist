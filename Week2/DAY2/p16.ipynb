{
 "cells": [
  {
   "cell_type": "code",
   "execution_count": 1,
   "id": "43519d1f",
   "metadata": {},
   "outputs": [
    {
     "name": "stdout",
     "output_type": "stream",
     "text": [
      "Sorted Names: ['Anita', 'Meena', 'Ravi', 'Suresh', 'Vikram']\n"
     ]
    }
   ],
   "source": [
    "names = [\"Ravi\", \"Anita\", \"Suresh\", \"Meena\", \"Vikram\"]\n",
    "\n",
    "sorted_names = sorted(names)\n",
    "\n",
    "print(\"Sorted Names:\", sorted_names)"
   ]
  }
 ],
 "metadata": {
  "kernelspec": {
   "display_name": "Python 3",
   "language": "python",
   "name": "python3"
  },
  "language_info": {
   "codemirror_mode": {
    "name": "ipython",
    "version": 3
   },
   "file_extension": ".py",
   "mimetype": "text/x-python",
   "name": "python",
   "nbconvert_exporter": "python",
   "pygments_lexer": "ipython3",
   "version": "3.11.0"
  }
 },
 "nbformat": 4,
 "nbformat_minor": 5
}
