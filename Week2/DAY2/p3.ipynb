{
 "cells": [
  {
   "cell_type": "code",
   "execution_count": 1,
   "id": "2e3742ae",
   "metadata": {},
   "outputs": [
    {
     "name": "stdout",
     "output_type": "stream",
     "text": [
      "1.Addition\n",
      "2.Subtraction\n",
      "3.Multiplication\n",
      "4.Division\n",
      "5.Exit\n",
      "Result: 55.0\n",
      "1.Addition\n",
      "2.Subtraction\n",
      "3.Multiplication\n",
      "4.Division\n",
      "5.Exit\n"
     ]
    }
   ],
   "source": [
    "class Calculator:\n",
    "    def add(self, a, b):\n",
    "        return a + b\n",
    "\n",
    "    def subtract(self, a, b):\n",
    "        return a - b\n",
    "\n",
    "    def multiply(self, a, b):\n",
    "        return a * b\n",
    "\n",
    "    def divide(self, a, b):\n",
    "        if b == 0:\n",
    "            raise ValueError(\"Cannot divide by zero.\")\n",
    "        return a / b\n",
    "\n",
    "\n",
    "cal = Calculator()\n",
    "while 1:\n",
    "    print(\"1.Addition\")\n",
    "    print(\"2.Subtraction\")\n",
    "    print(\"3.Multiplication\")\n",
    "    print(\"4.Division\")\n",
    "    print(\"5.Exit\")\n",
    "    choice = int(input(\"Enter your choice:\"))\n",
    "    if choice == 5:\n",
    "        break\n",
    "    num1 = float(input(\"Enter first number:\"))\n",
    "    num2 = float(input(\"Enter second number:\"))\n",
    "    if choice == 1:\n",
    "        print(\"Result:\", cal.add(num1, num2))\n",
    "    elif choice == 2:\n",
    "        print(\"Result:\", cal.subtract(num1, num2))\n",
    "    elif choice == 3:\n",
    "        print(\"Result:\", cal.multiply(num1, num2))\n",
    "    elif choice == 4:\n",
    "        try:\n",
    "            print(\"Result:\", cal.divide(num1, num2))\n",
    "        except ValueError as e:\n",
    "            print(e)\n",
    "    else:\n",
    "        print(\"Invalid choice. Please try again.\")"
   ]
  }
 ],
 "metadata": {
  "kernelspec": {
   "display_name": "Python 3",
   "language": "python",
   "name": "python3"
  },
  "language_info": {
   "codemirror_mode": {
    "name": "ipython",
    "version": 3
   },
   "file_extension": ".py",
   "mimetype": "text/x-python",
   "name": "python",
   "nbconvert_exporter": "python",
   "pygments_lexer": "ipython3",
   "version": "3.11.0"
  }
 },
 "nbformat": 4,
 "nbformat_minor": 5
}
