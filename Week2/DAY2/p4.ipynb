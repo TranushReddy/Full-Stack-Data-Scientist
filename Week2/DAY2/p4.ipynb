{
 "cells": [
  {
   "cell_type": "code",
   "execution_count": 1,
   "id": "d43945b9",
   "metadata": {},
   "outputs": [
    {
     "name": "stdout",
     "output_type": "stream",
     "text": [
      "Duplicate student names: ['Alice', 'Bob']\n"
     ]
    }
   ],
   "source": [
    "from collections import Counter\n",
    "\n",
    "\n",
    "def find_duplicate_students(student_names):\n",
    "\n",
    "    counts = Counter(student_names)\n",
    "    duplicates = [name for name, count in counts.items() if count > 1]\n",
    "    return duplicates\n",
    "\n",
    "\n",
    "student_names = [\"Alice\", \"Bob\", \"Charlie\", \"Alice\", \"David\", \"Bob\"]\n",
    "duplicates = find_duplicate_students(student_names)\n",
    "print(\"Duplicate student names:\", duplicates)"
   ]
  }
 ],
 "metadata": {
  "kernelspec": {
   "display_name": "Python 3",
   "language": "python",
   "name": "python3"
  },
  "language_info": {
   "codemirror_mode": {
    "name": "ipython",
    "version": 3
   },
   "file_extension": ".py",
   "mimetype": "text/x-python",
   "name": "python",
   "nbconvert_exporter": "python",
   "pygments_lexer": "ipython3",
   "version": "3.11.0"
  }
 },
 "nbformat": 4,
 "nbformat_minor": 5
}
