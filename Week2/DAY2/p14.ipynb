{
 "cells": [
  {
   "cell_type": "code",
   "execution_count": 1,
   "id": "6d79054e",
   "metadata": {},
   "outputs": [
    {
     "name": "stdout",
     "output_type": "stream",
     "text": [
      "Character Frequency:\n",
      "h: 1\n",
      "e: 1\n",
      "l: 2\n",
      "o: 1\n"
     ]
    }
   ],
   "source": [
    "text = input(\"Enter a string: \")\n",
    "\n",
    "char_count = {}\n",
    "\n",
    "for ch in text:\n",
    "    if ch in char_count:\n",
    "        char_count[ch] += 1\n",
    "    else:\n",
    "        char_count[ch] = 1\n",
    "\n",
    "print(\"Character Frequency:\")\n",
    "for ch, count in char_count.items():\n",
    "    print(f\"{ch}: {count}\")"
   ]
  }
 ],
 "metadata": {
  "kernelspec": {
   "display_name": "Python 3",
   "language": "python",
   "name": "python3"
  },
  "language_info": {
   "codemirror_mode": {
    "name": "ipython",
    "version": 3
   },
   "file_extension": ".py",
   "mimetype": "text/x-python",
   "name": "python",
   "nbconvert_exporter": "python",
   "pygments_lexer": "ipython3",
   "version": "3.11.0"
  }
 },
 "nbformat": 4,
 "nbformat_minor": 5
}
