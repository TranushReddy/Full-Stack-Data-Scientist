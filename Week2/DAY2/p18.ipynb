{
 "cells": [
  {
   "cell_type": "code",
   "execution_count": 1,
   "id": "fdbfb977",
   "metadata": {},
   "outputs": [
    {
     "name": "stdout",
     "output_type": "stream",
     "text": [
      "Positive numbers: 2\n",
      "Negative numbers: 2\n",
      "Zeros: 1\n"
     ]
    }
   ],
   "source": [
    "def count_numbers(lst):\n",
    "    pos = neg = zero = 0\n",
    "    for num in lst:\n",
    "        if num > 0:\n",
    "            pos += 1\n",
    "        elif num < 0:\n",
    "            neg += 1\n",
    "        else:\n",
    "            zero += 1\n",
    "    return pos, neg, zero\n",
    "\n",
    "\n",
    "numbers = list(map(int, input(\"Enter numbers separated by spaces: \").split()))\n",
    "pos, neg, zero = count_numbers(numbers)\n",
    "\n",
    "print(\"Positive numbers:\", pos)\n",
    "print(\"Negative numbers:\", neg)\n",
    "print(\"Zeros:\", zero)"
   ]
  }
 ],
 "metadata": {
  "kernelspec": {
   "display_name": "Python 3",
   "language": "python",
   "name": "python3"
  },
  "language_info": {
   "codemirror_mode": {
    "name": "ipython",
    "version": 3
   },
   "file_extension": ".py",
   "mimetype": "text/x-python",
   "name": "python",
   "nbconvert_exporter": "python",
   "pygments_lexer": "ipython3",
   "version": "3.11.0"
  }
 },
 "nbformat": 4,
 "nbformat_minor": 5
}
