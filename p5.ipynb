{
 "cells": [
  {
   "cell_type": "code",
   "execution_count": 1,
   "metadata": {},
   "outputs": [
    {
     "name": "stdout",
     "output_type": "stream",
     "text": [
      "5*1=0\n",
      "5*2=5\n",
      "5*3=10\n",
      "5*4=15\n",
      "5*5=20\n",
      "5*6=25\n",
      "5*7=30\n",
      "5*8=35\n",
      "5*9=40\n",
      "5*10=45\n"
     ]
    }
   ],
   "source": [
    "a=int(input())\n",
    "for i in range(10):\n",
    "    print(f'{a}*{i+1}={a*i}')"
   ]
  }
 ],
 "metadata": {
  "kernelspec": {
   "display_name": "Python 3",
   "language": "python",
   "name": "python3"
  },
  "language_info": {
   "codemirror_mode": {
    "name": "ipython",
    "version": 3
   },
   "file_extension": ".py",
   "mimetype": "text/x-python",
   "name": "python",
   "nbconvert_exporter": "python",
   "pygments_lexer": "ipython3",
   "version": "3.11.13"
  }
 },
 "nbformat": 4,
 "nbformat_minor": 2
}
