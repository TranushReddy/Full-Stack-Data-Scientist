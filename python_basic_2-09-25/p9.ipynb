{
 "cells": [
  {
   "cell_type": "code",
   "execution_count": 1,
   "id": "cbcda5fe",
   "metadata": {},
   "outputs": [
    {
     "name": "stdout",
     "output_type": "stream",
     "text": [
      "PIN Verified.\n",
      "Withdrawal Successful. Remaining Balance = 3000\n"
     ]
    }
   ],
   "source": [
    "def atm_withdraw(pin_input, balance, withdraw_amount, correct_pin=1234):\n",
    "\tif pin_input != correct_pin:\n",
    "\t\tprint(\"Incorrect PIN.\")\n",
    "\t\treturn\n",
    "\tprint(\"PIN Verified.\")\n",
    "\tif withdraw_amount > balance:\n",
    "\t\tprint(\"Insufficient Balance\")\n",
    "\telse:\n",
    "\t\tbalance -= withdraw_amount\n",
    "\t\tprint(f\"Withdrawal Successful. Remaining Balance = {balance}\")\n",
    "atm_withdraw(pin_input=1234, balance=5000, withdraw_amount=2000)"
   ]
  }
 ],
 "metadata": {
  "kernelspec": {
   "display_name": "Python 3",
   "language": "python",
   "name": "python3"
  },
  "language_info": {
   "codemirror_mode": {
    "name": "ipython",
    "version": 3
   },
   "file_extension": ".py",
   "mimetype": "text/x-python",
   "name": "python",
   "nbconvert_exporter": "python",
   "pygments_lexer": "ipython3",
   "version": "3.11.0"
  }
 },
 "nbformat": 4,
 "nbformat_minor": 5
}
