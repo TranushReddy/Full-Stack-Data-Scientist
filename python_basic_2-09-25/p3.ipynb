{
 "cells": [
  {
   "cell_type": "code",
   "execution_count": 1,
   "id": "99e84df7",
   "metadata": {},
   "outputs": [
    {
     "name": "stdout",
     "output_type": "stream",
     "text": [
      "Grade: B (Good)\n"
     ]
    }
   ],
   "source": [
    "marks = int(input(\"Enter marks: \"))\n",
    "if marks >= 90:\n",
    "\tgrade = \"A+ (Outstanding)\"\n",
    "elif marks >= 80:\n",
    "\tgrade = \"A (Excellent)\"\n",
    "elif marks >= 70:\n",
    "\tgrade = \"B (Good)\"\n",
    "elif marks >= 60:\n",
    "\tgrade = \"C (Average)\"\n",
    "else:\n",
    "\tgrade = \"Fail\"\n",
    "\n",
    "print(f\"Grade: {grade}\")"
   ]
  }
 ],
 "metadata": {
  "kernelspec": {
   "display_name": "Python 3",
   "language": "python",
   "name": "python3"
  },
  "language_info": {
   "codemirror_mode": {
    "name": "ipython",
    "version": 3
   },
   "file_extension": ".py",
   "mimetype": "text/x-python",
   "name": "python",
   "nbconvert_exporter": "python",
   "pygments_lexer": "ipython3",
   "version": "3.11.0"
  }
 },
 "nbformat": 4,
 "nbformat_minor": 5
}
