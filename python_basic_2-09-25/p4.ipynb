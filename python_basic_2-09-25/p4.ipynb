{
 "cells": [
  {
   "cell_type": "code",
   "execution_count": 5,
   "id": "dba15479",
   "metadata": {},
   "outputs": [
    {
     "name": "stdout",
     "output_type": "stream",
     "text": [
      "Highest Marks = 90\n",
      "Lowest Marks = 50\n",
      "Average Marks = 70.0\n"
     ]
    }
   ],
   "source": [
    "marks = list(map(int, input(\"Enter marks separated by spaces: \").split()))\n",
    "\n",
    "highest = max(marks)\n",
    "lowest = min(marks)\n",
    "average = sum(marks) / len(marks)\n",
    "\n",
    "print(f\"Highest Marks = {highest}\")\n",
    "print(f\"Lowest Marks = {lowest}\")\n",
    "print(f\"Average Marks = {average:.1f}\")"
   ]
  }
 ],
 "metadata": {
  "kernelspec": {
   "display_name": "Python 3",
   "language": "python",
   "name": "python3"
  },
  "language_info": {
   "codemirror_mode": {
    "name": "ipython",
    "version": 3
   },
   "file_extension": ".py",
   "mimetype": "text/x-python",
   "name": "python",
   "nbconvert_exporter": "python",
   "pygments_lexer": "ipython3",
   "version": "3.11.0"
  }
 },
 "nbformat": 4,
 "nbformat_minor": 5
}
