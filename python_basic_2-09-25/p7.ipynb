{
 "cells": [
  {
   "cell_type": "code",
   "execution_count": 1,
   "id": "d9a6d25c",
   "metadata": {},
   "outputs": [
    {
     "name": "stdout",
     "output_type": "stream",
     "text": [
      "Compound Interest = 512.50\n",
      "Total Amount = 5512.50\n"
     ]
    }
   ],
   "source": [
    "principal = float(input(\"Principal = \"))\n",
    "rate = float(input(\"Rate = \"))\n",
    "time = float(input(\"Time = \"))\n",
    "interest_type = input(\"Interest Type = \").strip().lower()\n",
    "\n",
    "if interest_type == \"simple\":\n",
    "\tinterest = (principal * rate * time) / 100\n",
    "\ttotal_amount = principal + interest\n",
    "\tprint(f\"Simple Interest = {interest:.2f}\")\n",
    "\tprint(f\"Total Amount = {total_amount:.2f}\")\n",
    "elif interest_type == \"compound\":\n",
    "\ttotal_amount = principal * (1 + rate / 100) ** time\n",
    "\tinterest = total_amount - principal\n",
    "\tprint(f\"Compound Interest = {interest:.2f}\")\n",
    "\tprint(f\"Total Amount = {total_amount:.2f}\")\n",
    "else:\n",
    "\tprint(\"Invalid Interest Type. Please enter 'Simple' or 'Compound'.\")"
   ]
  }
 ],
 "metadata": {
  "kernelspec": {
   "display_name": "Python 3",
   "language": "python",
   "name": "python3"
  },
  "language_info": {
   "codemirror_mode": {
    "name": "ipython",
    "version": 3
   },
   "file_extension": ".py",
   "mimetype": "text/x-python",
   "name": "python",
   "nbconvert_exporter": "python",
   "pygments_lexer": "ipython3",
   "version": "3.11.0"
  }
 },
 "nbformat": 4,
 "nbformat_minor": 5
}
