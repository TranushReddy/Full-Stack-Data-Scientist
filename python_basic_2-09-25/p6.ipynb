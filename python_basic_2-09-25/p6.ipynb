{
 "cells": [
  {
   "cell_type": "code",
   "execution_count": 1,
   "id": "415228cd",
   "metadata": {},
   "outputs": [
    {
     "name": "stdout",
     "output_type": "stream",
     "text": [
      "Total Words = 4\n",
      "Total Characters = 15\n",
      "Total Vowels = 6\n"
     ]
    }
   ],
   "source": [
    "sentence = input(\"Enter sentence: \")\n",
    "words = sentence.split()\n",
    "total_words = len(words)\n",
    "total_characters = len(sentence.replace(\" \", \"\"))\n",
    "vowels = \"aeiouAEIOU\"\n",
    "total_vowels = sum(1 for char in sentence if char in vowels)\n",
    "print(f\"Total Words = {total_words}\")\n",
    "print(f\"Total Characters = {total_characters}\")\n",
    "print(f\"Total Vowels = {total_vowels}\")"
   ]
  }
 ],
 "metadata": {
  "kernelspec": {
   "display_name": "Python 3",
   "language": "python",
   "name": "python3"
  },
  "language_info": {
   "codemirror_mode": {
    "name": "ipython",
    "version": 3
   },
   "file_extension": ".py",
   "mimetype": "text/x-python",
   "name": "python",
   "nbconvert_exporter": "python",
   "pygments_lexer": "ipython3",
   "version": "3.11.0"
  }
 },
 "nbformat": 4,
 "nbformat_minor": 5
}
