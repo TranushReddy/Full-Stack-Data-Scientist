{
 "cells": [
  {
   "cell_type": "code",
   "execution_count": 2,
   "id": "93b350a1",
   "metadata": {},
   "outputs": [
    {
     "name": "stdout",
     "output_type": "stream",
     "text": [
      "Encrypted Message: KHOOR\n"
     ]
    }
   ],
   "source": [
    "def caesar_cipher_encrypt(message, shift):\n",
    "    return ''.join(\n",
    "        chr((ord(c) - 65 + shift) % 26 + 65) if c.isupper() else c\n",
    "        for c in message\n",
    "    )\n",
    "\n",
    "message = input(\"Message = \")\n",
    "shift = int(input(\"Shift = \"))\n",
    "print(\"Encrypted Message:\", caesar_cipher_encrypt(message, shift))\n"
   ]
  }
 ],
 "metadata": {
  "kernelspec": {
   "display_name": "Python 3",
   "language": "python",
   "name": "python3"
  },
  "language_info": {
   "codemirror_mode": {
    "name": "ipython",
    "version": 3
   },
   "file_extension": ".py",
   "mimetype": "text/x-python",
   "name": "python",
   "nbconvert_exporter": "python",
   "pygments_lexer": "ipython3",
   "version": "3.11.0"
  }
 },
 "nbformat": 4,
 "nbformat_minor": 5
}
